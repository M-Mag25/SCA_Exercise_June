{
  "nbformat": 4,
  "nbformat_minor": 0,
  "metadata": {
    "colab": {
      "name": "Stage A Hamoye- Lesson 3 (PANDAS)",
      "provenance": [],
      "collapsed_sections": [],
      "authorship_tag": "ABX9TyN0xCe7z6PJ2BW9bZ1q7ruU",
      "include_colab_link": true
    },
    "kernelspec": {
      "name": "python3",
      "display_name": "Python 3"
    },
    "language_info": {
      "name": "python"
    }
  },
  "cells": [
    {
      "cell_type": "markdown",
      "metadata": {
        "id": "view-in-github",
        "colab_type": "text"
      },
      "source": [
        "<a href=\"https://colab.research.google.com/github/M-Mag25/SCA_Exercise_June/blob/master/Stage_A_Hamoye_Lesson_3_(PANDAS).ipynb\" target=\"_parent\"><img src=\"https://colab.research.google.com/assets/colab-badge.svg\" alt=\"Open In Colab\"/></a>"
      ]
    },
    {
      "cell_type": "code",
      "metadata": {
        "colab": {
          "base_uri": "https://localhost:8080/"
        },
        "id": "kT1yehhat2PJ",
        "outputId": "dd8dd21c-23ef-4e52-ddbb-29d444d934cd"
      },
      "source": [
        "#convention for importing numpy\n",
        "import pandas as Pd\n",
        "days = Pd.Series(['Monday', 'Tuesday', 'Wednesday'])\n",
        "print(days)"
      ],
      "execution_count": 4,
      "outputs": [
        {
          "output_type": "stream",
          "text": [
            "0       Monday\n",
            "1      Tuesday\n",
            "2    Wednesday\n",
            "dtype: object\n"
          ],
          "name": "stdout"
        }
      ]
    },
    {
      "cell_type": "code",
      "metadata": {
        "colab": {
          "base_uri": "https://localhost:8080/"
        },
        "id": "lOHTPY7gQDT6",
        "outputId": "bce1a481-1d4b-441e-b381-3479ccb2884a"
      },
      "source": [
        "#Creating Series with a numpy array\n",
        "import numpy as np\n",
        "days_list = np.array(['Monday', 'Tuesday', 'Wednesday'])\n",
        "numpy_days = Pd.Series(days_list)\n",
        "print(numpy_days)"
      ],
      "execution_count": 5,
      "outputs": [
        {
          "output_type": "stream",
          "text": [
            "0       Monday\n",
            "1      Tuesday\n",
            "2    Wednesday\n",
            "dtype: object\n"
          ],
          "name": "stdout"
        }
      ]
    },
    {
      "cell_type": "code",
      "metadata": {
        "colab": {
          "base_uri": "https://localhost:8080/"
        },
        "id": "KY--xPNZQu8O",
        "outputId": "9e514776-ccad-4370-e59d-944ff1173b1f"
      },
      "source": [
        "#Using Strings as index\n",
        "days = \"days_list\"\n",
        "days = Pd.Series(['Monday', 'Tuesday', 'Wednesday'], index=['a', 'b', 'c'])\n",
        "print(days)\n",
        "              "
      ],
      "execution_count": 6,
      "outputs": [
        {
          "output_type": "stream",
          "text": [
            "a       Monday\n",
            "b      Tuesday\n",
            "c    Wednesday\n",
            "dtype: object\n"
          ],
          "name": "stdout"
        }
      ]
    },
    {
      "cell_type": "code",
      "metadata": {
        "colab": {
          "base_uri": "https://localhost:8080/"
        },
        "id": "jn8YXvF1T2N9",
        "outputId": "6d6d67a1-235b-4a75-a9f5-46c4b8aaa3d5"
      },
      "source": [
        "#create series with dictionary\n",
        "days1 = Pd.Series({'a': 'Monday', 'b':'Tuesday', 'c': 'Wednesday'})\n",
        "print(days1)"
      ],
      "execution_count": 7,
      "outputs": [
        {
          "output_type": "stream",
          "text": [
            "a       Monday\n",
            "b      Tuesday\n",
            "c    Wednesday\n",
            "dtype: object\n"
          ],
          "name": "stdout"
        }
      ]
    },
    {
      "cell_type": "code",
      "metadata": {
        "colab": {
          "base_uri": "https://localhost:8080/"
        },
        "id": "9ci4FrNtUSmR",
        "outputId": "277fe6ae-7f62-4380-b785-3f51c0066f54"
      },
      "source": [
        "#series can be accessed using the specified index as shown below\n",
        "days[0] # has the same output as days_list[0]\n",
        "days_list[1:]\n",
        "days['c']\n",
        "days[1:]\n",
        "\n",
        "\n",
        "\n"
      ],
      "execution_count": 8,
      "outputs": [
        {
          "output_type": "execute_result",
          "data": {
            "text/plain": [
              "b      Tuesday\n",
              "c    Wednesday\n",
              "dtype: object"
            ]
          },
          "metadata": {
            "tags": []
          },
          "execution_count": 8
        }
      ]
    },
    {
      "cell_type": "code",
      "metadata": {
        "colab": {
          "base_uri": "https://localhost:8080/"
        },
        "id": "vrebISGW-gJn",
        "outputId": "e732acd4-0799-42bc-b84e-3044e95a36ab"
      },
      "source": [
        "#Dataframe can be described as a table(2 dimensions)made up of many series with the same index.It holds data in rows and columns just like a spreadsheet\n",
        "print(Pd.DataFrame())#Prints an empty dataFrame\n",
        "#create a dataframe from a dictionary\n",
        "df_dict = {'country': ['Ghana', 'Kenya','Nigeria','Togo'], 'capital': ['Accra', 'Nairobi', 'Abuja', 'Lome'],  'population': [10000, 8500, 35000, 12000],'age': [60, 70, 80, 75]\n",
        "            }\n",
        "df = Pd.DataFrame(df_dict, index=[2,4,6,8])\n",
        "df_list = [['Ghana', 'Accra', 10000, 60], ['Kenya', 'Nairobi', 8500, 70], ['Nigeria', 'Abuja', 35000, 80], ['Togo', 'Lome', 12000, 75]]\n",
        "df1 = Pd.DataFrame(df_list, columns =['country', 'capital', 'population', 'age'], index =[2,4,6,8])\n",
        "print(df1)"
      ],
      "execution_count": 16,
      "outputs": [
        {
          "output_type": "stream",
          "text": [
            "Empty DataFrame\n",
            "Columns: []\n",
            "Index: []\n",
            "   country  capital  population  age\n",
            "2    Ghana    Accra       10000   60\n",
            "4    Kenya  Nairobi        8500   70\n",
            "6  Nigeria    Abuja       35000   80\n",
            "8     Togo     Lome       12000   75\n"
          ],
          "name": "stdout"
        }
      ]
    },
    {
      "cell_type": "code",
      "metadata": {
        "id": "CkmwtIeEhWNE"
      },
      "source": [
        ""
      ],
      "execution_count": 15,
      "outputs": []
    },
    {
      "cell_type": "code",
      "metadata": {
        "id": "k9FwS1bHJrqP",
        "colab": {
          "base_uri": "https://localhost:8080/"
        },
        "outputId": "cefbd5dd-56de-4212-85fa-7fa04f02463b"
      },
      "source": [
        "#select the row in the at index 3\n",
        "df.iloc[3]"
      ],
      "execution_count": 71,
      "outputs": [
        {
          "output_type": "execute_result",
          "data": {
            "text/plain": [
              "country        Togo\n",
              "capital        Lome\n",
              "population    12000\n",
              "age              75\n",
              "Name: 8, dtype: object"
            ]
          },
          "metadata": {
            "tags": []
          },
          "execution_count": 71
        }
      ]
    },
    {
      "cell_type": "code",
      "metadata": {
        "colab": {
          "base_uri": "https://localhost:8080/"
        },
        "id": "YgIa49HkLyNi",
        "outputId": "e9e1f270-41f2-4278-e25e-d9de5d887906"
      },
      "source": [
        "#select row with index label 6\n",
        "df.loc[6]"
      ],
      "execution_count": 72,
      "outputs": [
        {
          "output_type": "execute_result",
          "data": {
            "text/plain": [
              "country       Nigeria\n",
              "capital         Abuja\n",
              "population      35000\n",
              "age                80\n",
              "Name: 6, dtype: object"
            ]
          },
          "metadata": {
            "tags": []
          },
          "execution_count": 72
        }
      ]
    },
    {
      "cell_type": "code",
      "metadata": {
        "colab": {
          "base_uri": "https://localhost:8080/"
        },
        "id": "aVkEeaN2L7sd",
        "outputId": "e8a33c28-0131-4a98-9974-6338c7c3af53"
      },
      "source": [
        "#select the capital column\n",
        "df['capital']"
      ],
      "execution_count": 73,
      "outputs": [
        {
          "output_type": "execute_result",
          "data": {
            "text/plain": [
              "2      Accra\n",
              "4    Nairobi\n",
              "6      Abuja\n",
              "8       Lome\n",
              "Name: capital, dtype: object"
            ]
          },
          "metadata": {
            "tags": []
          },
          "execution_count": 73
        }
      ]
    },
    {
      "cell_type": "code",
      "metadata": {
        "colab": {
          "base_uri": "https://localhost:8080/",
          "height": 35
        },
        "id": "5tm3WT_OMEuc",
        "outputId": "ff25aaf3-604e-462f-ca61-a7b329785d8a"
      },
      "source": [
        "df.at[6, 'country']\n",
        "df.iat[2, 0]\n",
        "#select the row in the at index 3\n",
        "df.iloc[3]\n",
        "#select row with index label 6\n",
        "df.loc[6]\n",
        "#select capital column\n",
        "df['capital']\n",
        "df.at[6, 'population']\n",
        "df.iat[2,1]"
      ],
      "execution_count": 85,
      "outputs": [
        {
          "output_type": "execute_result",
          "data": {
            "application/vnd.google.colaboratory.intrinsic+json": {
              "type": "string"
            },
            "text/plain": [
              "'Abuja'"
            ]
          },
          "metadata": {
            "tags": []
          },
          "execution_count": 85
        }
      ]
    },
    {
      "cell_type": "code",
      "metadata": {
        "colab": {
          "base_uri": "https://localhost:8080/",
          "height": 80
        },
        "id": "j1YSvaNY7WIg",
        "outputId": "9badb228-23e6-4ccb-97d8-04f5d4ad3f83"
      },
      "source": [
        "#remove rows with missing values\n",
        "new_df.dropna()"
      ],
      "execution_count": 20,
      "outputs": [
        {
          "output_type": "execute_result",
          "data": {
            "text/html": [
              "<div>\n",
              "<style scoped>\n",
              "    .dataframe tbody tr th:only-of-type {\n",
              "        vertical-align: middle;\n",
              "    }\n",
              "\n",
              "    .dataframe tbody tr th {\n",
              "        vertical-align: top;\n",
              "    }\n",
              "\n",
              "    .dataframe thead th {\n",
              "        text-align: right;\n",
              "    }\n",
              "</style>\n",
              "<table border=\"1\" class=\"dataframe\">\n",
              "  <thead>\n",
              "    <tr style=\"text-align: right;\">\n",
              "      <th></th>\n",
              "      <th>Name</th>\n",
              "      <th>Profession</th>\n",
              "      <th>Experience</th>\n",
              "      <th>Height</th>\n",
              "    </tr>\n",
              "  </thead>\n",
              "  <tbody>\n",
              "    <tr>\n",
              "      <th>2</th>\n",
              "      <td>Caro</td>\n",
              "      <td>Doctor</td>\n",
              "      <td>10.0</td>\n",
              "      <td>180.0</td>\n",
              "    </tr>\n",
              "  </tbody>\n",
              "</table>\n",
              "</div>"
            ],
            "text/plain": [
              "   Name Profession  Experience  Height\n",
              "2  Caro     Doctor        10.0   180.0"
            ]
          },
          "metadata": {
            "tags": []
          },
          "execution_count": 20
        }
      ]
    },
    {
      "cell_type": "code",
      "metadata": {
        "colab": {
          "base_uri": "https://localhost:8080/"
        },
        "id": "FFJjyvJYb32G",
        "outputId": "57585bff-2d95-4fad-ab83-16dabf1bc98e"
      },
      "source": [
        "df['population'].sum()\n",
        "df.mean()\n",
        "df.describe()\n",
        "#THE MISSING DATA ENIGMA:IMPORTANCE, TYPES AND HANDLING MISSING DATA\n",
        "df_dict2 ={'Name':['James', 'Yamen', 'Caro', np.nan], 'Profession':['Researcher', 'Artist', 'Doctor', 'Writer'], 'Experience':[12, np.nan, 10, 8], \n",
        "             'Height':[np.nan, 175, 180, 150]}\n",
        "new_df =Pd.DataFrame(df_dict2)\n",
        "print(new_df)"
      ],
      "execution_count": 19,
      "outputs": [
        {
          "output_type": "stream",
          "text": [
            "    Name  Profession  Experience  Height\n",
            "0  James  Researcher        12.0     NaN\n",
            "1  Yamen      Artist         NaN   175.0\n",
            "2   Caro      Doctor        10.0   180.0\n",
            "3    NaN      Writer         8.0   150.0\n"
          ],
          "name": "stdout"
        }
      ]
    }
  ]
}